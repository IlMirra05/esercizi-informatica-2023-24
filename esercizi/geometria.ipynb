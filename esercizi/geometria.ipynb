{
  "cells": [
    {
      "cell_type": "markdown",
      "metadata": {
        "id": "HB3XbPDcSqe1"
      },
      "source": [
        "# Esercizi Geometrici"
      ]
    },
    {
      "cell_type": "markdown",
      "metadata": {
        "id": "LCcywn6v2KxD"
      },
      "source": [
        "In Python per stampare consecutivamente più parole senza creare una riga per ognuna bisogna usare il seguente codice:\n"
      ]
    },
    {
      "cell_type": "code",
      "execution_count": null,
      "metadata": {
        "colab": {
          "base_uri": "https://localhost:8080/"
        },
        "id": "PHdyo8E42sza",
        "outputId": "fb51a75d-54ef-48c3-f6ad-342834d2738b"
      },
      "outputs": [],
      "source": [
        "print(\"Parola 1\", end=\" \")\n",
        "print(\"Parola 2\", end=\".\\n\")\n",
        "print(\"Parola 3\")"
      ]
    },
    {
      "cell_type": "code",
      "execution_count": null,
      "metadata": {
        "colab": {
          "base_uri": "https://localhost:8080/"
        },
        "id": "0U7L9A29RfeT",
        "outputId": "ccdd9b72-55df-486a-a68d-cfe73e90461d"
      },
      "outputs": [],
      "source": [
        "# Es 6.1: Scrivi la funzione quadrato(n) che stampi a schermo un quadrato di lato nxn formato utilizzando il carattere *\n",
        "#         Esempio:    3 ->  * * *       4 ->  * * * *\n",
        "#                           * * *             * * * *\n",
        "#                           * * *             * * * *\n",
        "#                                             * * * *\n",
        "n=int(input())\n",
        "print(\"inserisci il lato del quadrato\")\n",
        "def quadrato(n):\n",
        "    if n>0:\n",
        "        for a in range(n):\n",
        "            for b in range(n):\n",
        "                print(\"*\", end=\" \")\n",
        "            print(\"\\n\")\n",
        "    else :\n",
        "        print(\"non esiste un quadrato con lato negativo\")\n",
        "quadrato(n)\n"
      ]
    },
    {
      "cell_type": "code",
      "execution_count": null,
      "metadata": {
        "id": "gE3RVr9ORuwP"
      },
      "outputs": [],
      "source": [
        "# Es 6.2: Scrivi la funzione rettangolo(n) che stampi a schermo un rettangolo di lato nx2n formato utilizzando il carattere *\n",
        "#         Esempio:    3 ->  * * * * * *         4 ->  * * * * * * * *\n",
        "#                           * * * * * *               * * * * * * * *\n",
        "#                           * * * * * *               * * * * * * * *\n",
        "#                                                     * * * * * * * *\n",
        "\n",
        "n=int(input())\n",
        "print(\"inserisci il lato del rettangolo\")\n",
        "def rettangolo(n):\n",
        "    if n>0:\n",
        "        for a in range(n):\n",
        "            for b in range(2*n):\n",
        "                print(\"*\", end=\" \")\n",
        "            print(\"\\n\")\n",
        "    else :\n",
        "        print(\"non esiste un rettangolo con lato negativo\")\n",
        "rettangolo(n)\n"
      ]
    },
    {
      "cell_type": "code",
      "execution_count": null,
      "metadata": {
        "id": "r1A_DavcSKgi"
      },
      "outputs": [],
      "source": [
        "# Es 6.3: Scrivi la funzione triangolo_rettangolo(n) che stampi a schermo un triangolo di cateti n e n formato utilizzando il carattere *\n",
        "#         Esempio:    3 ->  *           4 ->  *\n",
        "#                           * *               * *\n",
        "#                           * * *             * * *\n",
        "#                                             * * * *\n",
        "\n",
        "n=int(input())\n",
        "print(\"inserisci il lato del triangolo\")\n",
        "def triangolo_rettangolo(n):\n",
        "    for a in range(n):\n",
        "        for b in range(a+1):\n",
        "            print(\"*\", end=\" \")\n",
        "        print(\"\\n\")\n",
        "triangolo_rettangolo(n)\n"
      ]
    },
    {
      "cell_type": "code",
      "execution_count": null,
      "metadata": {
        "id": "iA9D4X_GSims"
      },
      "outputs": [],
      "source": [
        "# Es 6.4: Scrivi la funzione bordo_quadrato(n) che stampi a schermo un quadrato di lato nxn formato utilizzando il carattere * come contorno\n",
        "#         Esempio:    3 ->  * * *       4 ->  * * * *\n",
        "#                           *   *             *     *\n",
        "#                           * * *             *     *\n",
        "#                                             * * * *\n",
        "\n",
        "n=int(input())\n",
        "print(\"inserisci un numero intero maggiore di 2\")\n",
        "def bordo_quadrato(n):\n",
        "    j=1\n",
        "    m=n-2\n",
        "    if n>2:\n",
        "        while j<=n:\n",
        "            if j==1:\n",
        "                for numero in range(n):\n",
        "                    print(\"*\", end=\" \")\n",
        "                print(\"\\n\", end=\"\")\n",
        "            elif j==n:\n",
        "                for numero in range(n):\n",
        "                    print(\"*\",end=\" \")\n",
        "            else:\n",
        "                print(\"*\", end=\" \")\n",
        "                for numero in range(m):\n",
        "                    print(\" \", end=\" \")\n",
        "                print(\"*\", end=\" \")\n",
        "                print(\"\\n\", end=\"\")\n",
        "            j=j+1    \n",
        "    else :\n",
        "        print(\"valore non valido\")\n",
        "\n",
        "bordo_quadrato(n)"
      ]
    },
    {
      "cell_type": "code",
      "execution_count": null,
      "metadata": {
        "colab": {
          "base_uri": "https://localhost:8080/"
        },
        "id": "1vlDMqo_4uNc",
        "outputId": "de4cc1b2-7110-4ad6-b86c-d67c5756c074"
      },
      "outputs": [],
      "source": [
        "# Es 6.5: Scrivi la funzione bordo_quadrato_bello(n) che stampi a schermo un quadrato di lato nxn formato utilizzando iseguenti caratteri:\n",
        "#         Esempio:    3 ->  / - \\       4 ->  / - - \\\n",
        "#                           |   |             |     |\n",
        "#                           \\ - /             |     |\n",
        "#                                             \\ - - /\n",
        "# Per stampare \\ dovete utilizzare \"\\\\\" ovvero print(\"\\\\\")\n",
        "\n",
        "n=int(input())\n",
        "print(\"inserisci un numero intero maggiore di 2\")\n",
        "def bordo_quadrato_bello(n):\n",
        "    j=1\n",
        "    m=n-2\n",
        "    if n>2:\n",
        "        while j<=n:\n",
        "            if j==1:\n",
        "                for numero in range(n):\n",
        "                    print(\"*\", end=\" \")\n",
        "                print(\"\\n\", end=\"\")\n",
        "            elif j==n:\n",
        "                for numero in range(n):\n",
        "                    print(\"*\",end=\" \")\n",
        "            else:\n",
        "                print(\"*\", end=\" \")\n",
        "                for numero in range(m):\n",
        "                    print(\" \", end=\" \")\n",
        "                print(\"*\", end=\" \")\n",
        "                print(\"\\n\", end=\"\")\n",
        "            j=j+1    \n",
        "    else :\n",
        "        print(\"valore non valido\")\n",
        "\n",
        "bordo_quadrato_bello(n)"
      ]
    },
    {
      "cell_type": "code",
      "execution_count": null,
      "metadata": {
        "id": "2E9Hk9kkv5Mx"
      },
      "outputs": [],
      "source": [
        "# Es 6.6: Scrivi la funzione trianglo_bello(n) che stampi a schermo un triangolo di cateti n e n formato utilizzando iseguenti caratteri:\n",
        "#.   ^\\\n",
        "#    | \\\n",
        "#.   |  \\\n",
        "#.   |___\\"
      ]
    }
  ],
  "metadata": {
    "colab": {
      "provenance": []
    },
    "kernelspec": {
      "display_name": "Python 3",
      "name": "python3"
    },
    "language_info": {
      "codemirror_mode": {
        "name": "ipython",
        "version": 3
      },
      "file_extension": ".py",
      "mimetype": "text/x-python",
      "name": "python",
      "nbconvert_exporter": "python",
      "pygments_lexer": "ipython3",
      "version": "3.10.8"
    }
  },
  "nbformat": 4,
  "nbformat_minor": 0
}
