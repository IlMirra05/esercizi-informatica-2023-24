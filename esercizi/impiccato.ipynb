{
  "cells": [
    {
      "cell_type": "code",
      "execution_count": 3,
      "metadata": {
        "id": "dEWxmkWc48Lz"
      },
      "outputs": [
        {
          "name": "stdout",
          "output_type": "stream",
          "text": [
            "player1: inserisci una parola scritta in maiuscolo\n",
            "player2: hai a disposizione 5 tentativi per indovinare la parola\n",
            "1° tentativo: inserisci una lettera maiuscola\n"
          ]
        }
      ],
      "source": [
        "# Es 8.1 Creare il gioco dell'impiccato\n",
        "# Suggerimento: per controllare se la lettera 'a' è presente all'interno della parola 'casa' si può usare:\n",
        "#\n",
        "# if 'a' in 'casa':\n",
        "#   print('Presente')\n",
        "\n",
        "print(\"player1: inserisci una parola scritta in maiuscolo\")\n",
        "parola=list(input())\n",
        "\n",
        "print(\"player2: hai a disposizione 5 tentativi per indovinare la parola\")\n",
        "print(\"1° tentativo: inserisci una lettera maiuscola\")\n",
        "primo=(input)\n",
        "\n",
        "def impiccato(parola):\n",
        "    i=1\n",
        "    while i<5:\n",
        "        for lettera in parola:\n",
        "            if primo==lettera:\n",
        "                print(\"hai indovinato una lettera nella posizione\" )\n",
        "            i=i+1\n",
        "impiccato(parola)\n",
        "    "
      ]
    }
  ],
  "metadata": {
    "colab": {
      "provenance": []
    },
    "kernelspec": {
      "display_name": "Python 3",
      "name": "python3"
    },
    "language_info": {
      "codemirror_mode": {
        "name": "ipython",
        "version": 3
      },
      "file_extension": ".py",
      "mimetype": "text/x-python",
      "name": "python",
      "nbconvert_exporter": "python",
      "pygments_lexer": "ipython3",
      "version": "3.10.8"
    }
  },
  "nbformat": 4,
  "nbformat_minor": 0
}
