{
  "cells": [
    {
      "cell_type": "code",
      "execution_count": 7,
      "metadata": {
        "id": "dEWxmkWc48Lz"
      },
      "outputs": [
        {
          "name": "stdout",
          "output_type": "stream",
          "text": [
            "C è presente in posizione list['C']\n",
            "S è presente in posizione list['S']\n",
            "_\n",
            "_\n"
          ]
        }
      ],
      "source": [
        "# Es 8.1 Creare il gioco dell'impiccato\n",
        "# Suggerimento: per controllare se la lettera 'a' è presente all'interno della parola 'casa' si può usare:\n",
        "#\n",
        "# if 'a' in 'casa':\n",
        "#   print('Presente')\n",
        "\n",
        "parola=list(input(\"player1: inserisci una parola scritta in maiuscolo\"))\n",
        "\n",
        "tentativi=int(input(\"player2: hai a disposizione n tentativi per indovinare la parola, inserisci quanti tentativi vuoi fare\"))\n",
        "for lettera in parola:\n",
        "    lettera=str(input(\"inserisci una lettera maiuscola\"))\n",
        "    tentativi -=1\n",
        "    if lettera in parola:\n",
        "        print(lettera, \"è presente in posizione\", list[lettera])\n",
        "    else:\n",
        "        print(\"_\")\n",
        "\n",
        "\n",
        "    "
      ]
    }
  ],
  "metadata": {
    "colab": {
      "provenance": []
    },
    "kernelspec": {
      "display_name": "Python 3",
      "name": "python3"
    },
    "language_info": {
      "codemirror_mode": {
        "name": "ipython",
        "version": 3
      },
      "file_extension": ".py",
      "mimetype": "text/x-python",
      "name": "python",
      "nbconvert_exporter": "python",
      "pygments_lexer": "ipython3",
      "version": "3.10.8"
    }
  },
  "nbformat": 4,
  "nbformat_minor": 0
}
