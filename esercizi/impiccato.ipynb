{
  "cells": [
    {
      "cell_type": "code",
      "execution_count": null,
      "metadata": {
        "id": "dEWxmkWc48Lz"
      },
      "outputs": [],
      "source": [
        "# Es 8.1 Creare il gioco dell'impiccato\n",
        "# Suggerimento: per controllare se la lettera 'a' è presente all'interno della parola 'casa' si può usare:\n",
        "#\n",
        "# if 'a' in 'casa':\n",
        "#   print('Presente')\n",
        "\n",
        "parola=str(input())\n",
        "print(\"player1: inserisci una parola scritta in maiuscolo\")\n",
        "print(\"player2: hai a disposizione 5 tentativi per indovinare la parola\")\n",
        "print(\"1° tentativo: inserisci una lettera maiuscola\")\n",
        "primo=(input)\n",
        "def impiccato(parola):\n",
        "    i=1\n",
        "    for lettera in parola:\n",
        "        if primo==lettera:\n",
        "            print(\"hai indovinato una lettera\")\n",
        "            i=i+1\n",
        "            \n",
        "impiccato(parola)\n",
        "    "
      ]
    }
  ],
  "metadata": {
    "colab": {
      "provenance": []
    },
    "kernelspec": {
      "display_name": "Python 3",
      "name": "python3"
    },
    "language_info": {
      "name": "python"
    }
  },
  "nbformat": 4,
  "nbformat_minor": 0
}
