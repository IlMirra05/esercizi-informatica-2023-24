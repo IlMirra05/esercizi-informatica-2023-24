{
  "cells": [
    {
      "cell_type": "markdown",
      "metadata": {
        "id": "HB3XbPDcSqe1"
      },
      "source": [
        "# Esercizi IF"
      ]
    },
    {
      "cell_type": "code",
      "execution_count": 1,
      "metadata": {
        "id": "gE3RVr9ORuwP"
      },
      "outputs": [
        {
          "name": "stdout",
          "output_type": "stream",
          "text": [
            "è un triangolo\n"
          ]
        }
      ],
      "source": [
        "# Es 4.2: Ottenere dall'utente tre angoli caso siano i tre angoli di un triangolo scrivere a schermo \"È un triangolo\", altrimenti \"Non è un triangolo\"\n",
        "angolo1=float(input())\n",
        "angolo2=float(input())\n",
        "angolo3=float(input())\n",
        "if angolo1+angolo2+angolo3==180 and angolo1>0 and angolo2>0 and angolo3>0:\n",
        "    print(\"è un triangolo\")\n",
        "else:\n",
        "    print(\"non è un triangolo\")\n"
      ]
    },
    {
      "cell_type": "code",
      "execution_count": 8,
      "metadata": {
        "id": "r1A_DavcSKgi"
      },
      "outputs": [
        {
          "name": "stdout",
          "output_type": "stream",
          "text": [
            "è un triangolo\n"
          ]
        }
      ],
      "source": [
        "# Es 4.3: Ottenuti dall'utente tre angoli di un tringolo scrivere a schermo se i tre angoli descrivono un triangolo rettangolo o no\n",
        "angolo1=float(input())\n",
        "angolo2=float(input())\n",
        "angolo3=float(input())\n",
        "if angolo1+angolo2+angolo3==180 and angolo1>0 and angolo2>0 and angolo3>0:\n",
        "    print(\"è un triangolo\")\n",
        "    if angolo1==90 or angolo2==90 or angolo3==90:\n",
        "        print(\"il triangolo è rettangolo\")\n",
        "else:\n",
        "    print(\"non è un triangolo\")\n"
      ]
    },
    {
      "cell_type": "code",
      "execution_count": 11,
      "metadata": {
        "id": "iA9D4X_GSims"
      },
      "outputs": [
        {
          "name": "stdout",
          "output_type": "stream",
          "text": [
            "è un triangolo\n",
            "il triangolo è equilatero\n"
          ]
        }
      ],
      "source": [
        "# Es 4.4: Ottenuti dall'utente tre angoli di un tringolo scrivere a schermo se i tre angoli descrivono un triangolo equilatero o no\n",
        "angolo1=float(input())\n",
        "angolo2=float(input())\n",
        "angolo3=float(input())\n",
        "if angolo1+angolo2+angolo3 == 180 and angolo1>0 and angolo2>0 and angolo3>0:\n",
        "    print(\"è un triangolo\")\n",
        "    if angolo1==60 and angolo2==60 and angolo3==60:\n",
        "        print(\"il triangolo è equilatero\")\n",
        "else:\n",
        "    print(\"non è un triangolo\")\n"
      ]
    },
    {
      "cell_type": "code",
      "execution_count": 8,
      "metadata": {
        "id": "8q4gadoTSU7J"
      },
      "outputs": [
        {
          "name": "stdout",
          "output_type": "stream",
          "text": [
            "è un triangolo\n"
          ]
        }
      ],
      "source": [
        "# Es 4.5: Ottenuti dall'utente tre angoli di un tringolo scrivere a schermo se i tre angoli descrivono un triangolo isocele o no\n",
        "a1=float(input())\n",
        "a2=float(input())\n",
        "a3=float(input())\n",
        "if a1+a2+a3==180 and a1>0 and a2>0 and a3>0:\n",
        "    print(\"è un triangolo\")\n",
        "    if a1==a2 or a1==a3 or a2==a3:\n",
        "        print(\"è isoscele\")\n",
        "else:\n",
        "    print(\"non è un triangolo\")\n"
      ]
    },
    {
      "cell_type": "code",
      "execution_count": null,
      "metadata": {
        "id": "yVIE2kK3SYlq"
      },
      "outputs": [],
      "source": [
        "# Es 4.6: Ottenuti dall'utente tre angoli di un tringolo scrivere a schermo se i tre angoli descrivono un triangolo isocele, rettagolo, equilatero o scaleno\n",
        "\n",
        "a1=int(input())\n",
        "a2=int(input())\n",
        "a3=int(input())\n",
        "if a1+a2+a2==180 and a1>0 and a2>0 and a3>0:\n",
        "    print(\"è un triangolo\")\n",
        "    if a1==a2 and a2==a3 and a3==a1:\n",
        "        print(\"è equilatero\")\n",
        "    elif a1==a2 or a2==a3 or a3==a1:\n",
        "        print(\"è isoscele\")\n",
        "    elif a1==90 or a2==90 or a3==90:\n",
        "        print(\"è rettangolo\")\n",
        "    elif a1!=a2 and a2!=a3 and a3!=a1:\n",
        "        print(\"è scaleno\")\n",
        "else:\n",
        "    print(\"non è un triangolo\")\n",
        "\n",
        "    "
      ]
    },
    {
      "cell_type": "markdown",
      "metadata": {
        "id": "ef5snVxLqeQh"
      },
      "source": [
        "# Esercizi WHILE\n"
      ]
    },
    {
      "cell_type": "code",
      "execution_count": null,
      "metadata": {
        "id": "j61RqiHxqdmh"
      },
      "outputs": [],
      "source": [
        "# Es 4.7: Creare una funzione print_n(n,v) che stampi n volte il. contenuto di v\n",
        "\n",
        "def print_n(n,v):\n",
        "    j=0\n",
        "    while j<n:\n",
        "        print(v)\n",
        "        j=j+1\n",
        "\n",
        "n=int(input(\"inserisci il valore da stampare\"))\n",
        "v=int(input(\"inserisci per quante volte vuoi stampare il valore\"))\n",
        "\n",
        "print(n,v)"
      ]
    },
    {
      "cell_type": "code",
      "execution_count": null,
      "metadata": {
        "colab": {
          "base_uri": "https://localhost:8080/"
        },
        "id": "-6lAm-hfq9w9",
        "outputId": "399e82ba-3cfe-475f-f8df-0e156677ec75"
      },
      "outputs": [],
      "source": [
        "# Es 4.8: Inserito il numero n dire per quali numeri, compresi tra 1 e n, è divisibile.\n",
        "# Inserisco 10: stampo 1,2,5\n",
        "# Inserisco 7: stampo 1\n",
        "\n",
        "num=int(input(\"inserisci un numero\"))\n",
        "\n",
        "j=1\n",
        "while j<=num:\n",
        "    if num%j==0:\n",
        "        print(j)\n",
        "        j=j+1\n"
      ]
    },
    {
      "cell_type": "code",
      "execution_count": null,
      "metadata": {
        "colab": {
          "base_uri": "https://localhost:8080/"
        },
        "id": "GjC4LdR7rP-b",
        "outputId": "9f539b4d-c307-479a-da13-610a7e1cc46e"
      },
      "outputs": [],
      "source": [
        "# Es 4.9: Inserito il numero n dire se è primo o no\n",
        "\n",
        "n=int(input(\"inserisci un numero\"))\n",
        "\n",
        "numPrimo=True\n",
        "j=2\n",
        "\n",
        "while numPrimo and j<n:\n",
        "    if n%j==0:\n",
        "        print(\"il numero inserito non è primo\")\n",
        "        numPrimo=False\n",
        "    else:\n",
        "        j=j+1\n",
        "    \n",
        "if numPrimo:\n",
        "    print(\"il numero inserito è primo\")\n"
      ]
    },
    {
      "cell_type": "code",
      "execution_count": null,
      "metadata": {
        "colab": {
          "base_uri": "https://localhost:8080/"
        },
        "id": "CxtWnOdHsTv4",
        "outputId": "5d874410-cb07-46a2-9c22-83d541b7a91a"
      },
      "outputs": [],
      "source": [
        "# Es 4.10: Creare la funzione moltiplica che restituisce il prodotto tra due numeri senza utilizzare *\n",
        "# 3*4 è uguale a 4+4+4\n",
        "\n",
        "def moltiplica(a,b):\n",
        "    j=1\n",
        "    prod=0\n",
        "    if a>=0:\n",
        "        while j<=a:\n",
        "            prod=prod+b\n",
        "            j=j+1\n",
        "        print(prod)\n",
        "    else:\n",
        "        print(\"prodotto negativo\")\n",
        "\n",
        "\n",
        "a=int(input(\"inserisci il primo fattore\"))\n",
        "b=int(input(\"inserisci il secondo fattore\"))\n",
        "\n",
        "moltiplica(a,b)"
      ]
    }
  ],
  "metadata": {
    "colab": {
      "provenance": []
    },
    "kernelspec": {
      "display_name": "Python 3",
      "name": "python3"
    },
    "language_info": {
      "codemirror_mode": {
        "name": "ipython",
        "version": 3
      },
      "file_extension": ".py",
      "mimetype": "text/x-python",
      "name": "python",
      "nbconvert_exporter": "python",
      "pygments_lexer": "ipython3",
      "version": "3.10.8"
    }
  },
  "nbformat": 4,
  "nbformat_minor": 0
}
